{
 "cells": [
  {
   "cell_type": "markdown",
   "metadata": {},
   "source": [
    "# Read baku architecture"
   ]
  },
  {
   "cell_type": "code",
   "execution_count": 14,
   "metadata": {},
   "outputs": [
    {
     "name": "stdout",
     "output_type": "stream",
     "text": [
      "/home/johnmok/Documents/GitHub/FYP-kitchen-assistive-robotic/sim_env/LIBERO/BAKU/baku\n"
     ]
    },
    {
     "name": "stderr",
     "output_type": "stream",
     "text": [
      "usage: ipykernel_launcher.py [--help] [--hydra-help] [--version]\n",
      "                             [--cfg {job,hydra,all}] [--resolve]\n",
      "                             [--package PACKAGE] [--run] [--multirun]\n",
      "                             [--shell-completion] [--config-path CONFIG_PATH]\n",
      "                             [--config-name CONFIG_NAME]\n",
      "                             [--config-dir CONFIG_DIR]\n",
      "                             [--info [{all,config,defaults,defaults-tree,plugins,searchpath}]]\n",
      "                             [overrides ...]\n",
      "ipykernel_launcher.py: error: unrecognized arguments: --f=/home/johnmok/.local/share/jupyter/runtime/kernel-v31e711f5d34535926c56eb9e04ffaa731cc77efdb.json\n"
     ]
    },
    {
     "ename": "SystemExit",
     "evalue": "2",
     "output_type": "error",
     "traceback": [
      "An exception has occurred, use %tb to see the full traceback.\n",
      "\u001b[0;31mSystemExit\u001b[0m\u001b[0;31m:\u001b[0m 2\n"
     ]
    },
    {
     "name": "stderr",
     "output_type": "stream",
     "text": [
      "/home/johnmok/miniconda3/envs/baku/lib/python3.9/site-packages/IPython/core/interactiveshell.py:3534: UserWarning: To exit: use 'exit', 'quit', or Ctrl-D.\n",
      "  warn(\"To exit: use 'exit', 'quit', or Ctrl-D.\", stacklevel=1)\n"
     ]
    }
   ],
   "source": [
    "import os\n",
    "import sys\n",
    "\n",
    "# Add the current working directory to the Python path\n",
    "sys.path.append(os.getcwd())\n",
    "\n",
    "print(os.getcwd())\n",
    "\n",
    "import torch\n",
    "import yaml\n",
    "from agent.baku import BCAgent\n",
    "import hydra\n",
    "\n",
    "@hydra.main(config_path=\"./cfgs\", config_name=\"config_eval.yaml\")\n",
    "def main(cfg):\n",
    "    # Get the path to the model weights\n",
    "    bc_weight_path = cfg.bc_weight\n",
    "\n",
    "    # Specify obs_shape and action_shape\n",
    "    obs_shape = (3, 84, 84)  # Example input shape\n",
    "    action_shape = (4,)      # Example action shape\n",
    "\n",
    "    # Initialize the BCAgent with parameters from configuration\n",
    "    agent = BCAgent(\n",
    "        obs_shape=obs_shape,\n",
    "        action_shape=action_shape,\n",
    "        device=cfg.device,\n",
    "        lr=cfg.agent.lr,\n",
    "        hidden_dim=cfg.agent.hidden_dim,\n",
    "        stddev_schedule=cfg.agent.stddev_schedule,\n",
    "        stddev_clip=cfg.agent.stddev_clip,\n",
    "        use_tb=cfg.use_tb,\n",
    "        augment=cfg.agent.augment,\n",
    "        obs_type=cfg.obs_type,\n",
    "        encoder_type=cfg.encoder_type,\n",
    "        policy_type=cfg.policy_type,\n",
    "        policy_head=cfg.policy_head,\n",
    "        pixel_keys=cfg.agent.pixel_keys,\n",
    "        proprio_key=cfg.agent.proprio_key,\n",
    "        feature_key=cfg.agent.feature_key,\n",
    "        use_proprio=cfg.use_proprio,\n",
    "        train_encoder=cfg.agent.train_encoder,\n",
    "        norm=cfg.agent.norm,\n",
    "        history=cfg.agent.history,\n",
    "        history_len=cfg.agent.history_len,\n",
    "        eval_history_len=cfg.agent.eval_history_len,\n",
    "        separate_encoders=cfg.agent.separate_encoders,\n",
    "        temporal_agg=cfg.temporal_agg,\n",
    "        max_episode_len=300,  # Or cfg.agent.max_episode_len\n",
    "        num_queries=cfg.num_queries,\n",
    "        use_language=cfg.use_language,\n",
    "        prompt=cfg.prompt,\n",
    "        film=cfg.agent.film,\n",
    "    )\n",
    "\n",
    "    # Load the model weights\n",
    "    checkpoint = torch.load(bc_weight_path, map_location=cfg.device)\n",
    "    agent.load_state_dict(checkpoint['agent'])\n",
    "\n",
    "    # Print the model architecture\n",
    "    print(agent)\n",
    "\n",
    "if __name__ == \"__main__\":\n",
    "    main()"
   ]
  },
  {
   "cell_type": "code",
   "execution_count": null,
   "metadata": {},
   "outputs": [],
   "source": []
  },
  {
   "cell_type": "code",
   "execution_count": null,
   "metadata": {},
   "outputs": [],
   "source": []
  }
 ],
 "metadata": {
  "kernelspec": {
   "display_name": "baku",
   "language": "python",
   "name": "python3"
  },
  "language_info": {
   "codemirror_mode": {
    "name": "ipython",
    "version": 3
   },
   "file_extension": ".py",
   "mimetype": "text/x-python",
   "name": "python",
   "nbconvert_exporter": "python",
   "pygments_lexer": "ipython3",
   "version": "3.9.20"
  }
 },
 "nbformat": 4,
 "nbformat_minor": 2
}
